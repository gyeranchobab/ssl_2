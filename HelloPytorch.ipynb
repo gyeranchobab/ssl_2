{
 "cells": [
  {
   "cell_type": "markdown",
   "metadata": {},
   "source": [
    "# Hello Pytorch"
   ]
  },
  {
   "cell_type": "markdown",
   "metadata": {},
   "source": [
    "## 1. Pytorch 텐서\n",
    "다양한 함수를 통해서 pytorch 텐서를 생성하고 initialize할 수 있습니다.\n",
    "(ref: https://pytorch.org/docs/stable/torch.html)"
   ]
  },
  {
   "cell_type": "code",
   "execution_count": 1,
   "metadata": {},
   "outputs": [],
   "source": [
    "import torch"
   ]
  },
  {
   "cell_type": "code",
   "execution_count": 2,
   "metadata": {},
   "outputs": [
    {
     "name": "stdout",
     "output_type": "stream",
     "text": [
      "\n",
      "x\t tensor([[0.3245, 0.8287, 0.6190],\n",
      "        [0.9933, 0.5847, 0.0957]])\n",
      "\n",
      "x.size()   torch.Size([2, 3])\n",
      "\n",
      "x.size(0)  2\n",
      "\n",
      "x[0]\t tensor([0.3245, 0.8287, 0.6190])\n",
      "\n",
      "x[:,0]\t tensor([0.3245, 0.9933])\n"
     ]
    }
   ],
   "source": [
    "#x = torch.Tensor(2,3)  ## without initialization\n",
    "x = torch.rand(2,3)    ## random uniform\n",
    "#x = torch.randn(2,3)   ## random normal\n",
    "#x = torch.ones(2,3)    ## fill with ones\n",
    "#x = torch.tensor([[0,1,2],[3,4,5]], dtype=torch.float)  ## with pre-existing data\n",
    "print('\\nx\\t',x)\n",
    "print('\\nx.size()  ',x.size())\n",
    "print('\\nx.size(0) ',x.size(0))\n",
    "print('\\nx[0]\\t',x[0])\n",
    "print('\\nx[:,0]\\t',x[:,0])"
   ]
  },
  {
   "cell_type": "code",
   "execution_count": 3,
   "metadata": {},
   "outputs": [
    {
     "name": "stdout",
     "output_type": "stream",
     "text": [
      "tensor([[0.8395, 0.8402, 0.1133],\n",
      "        [0.2991, 0.0215, 0.9769]])\n",
      "tensor([[0.7446, 0.9112, 0.7579],\n",
      "        [0.1238, 0.6249, 0.1213]])\n"
     ]
    }
   ],
   "source": [
    "x = torch.rand(2,3)\n",
    "y = torch.rand(2,3)\n",
    "print(x)\n",
    "print(y)"
   ]
  },
  {
   "cell_type": "code",
   "execution_count": 4,
   "metadata": {},
   "outputs": [
    {
     "name": "stdout",
     "output_type": "stream",
     "text": [
      "\n",
      "[1]  tensor([[1.8395, 1.8402, 1.1133],\n",
      "        [1.2991, 1.0215, 1.9769]])\n",
      "\n",
      "[2]  tensor([[1.8395, 1.8402, 1.1133],\n",
      "        [1.2991, 1.0215, 1.9769]])\n",
      "\n",
      "[3]  tensor([[1.5841, 1.7515, 0.8712],\n",
      "        [0.4229, 0.6464, 1.0983]])\n",
      "\n",
      "[4]  tensor([[0.8395, 1.8402, 2.1133],\n",
      "        [0.2991, 1.0215, 2.9769]])\n",
      "\n",
      "[5]  tensor([[3.8395, 3.8402, 3.1133],\n",
      "        [4.2991, 4.0215, 4.9769]])\n"
     ]
    }
   ],
   "source": [
    "print('\\n[1] ',x+1)\n",
    "print('\\n[2] ',x+torch.ones(x.size()))\n",
    "print('\\n[3] ',x+y)\n",
    "print('\\n[4] ',x+torch.tensor([0,1,2]))\n",
    "print('\\n[5] ',x+torch.tensor([[3],[4]]))"
   ]
  },
  {
   "cell_type": "code",
   "execution_count": 5,
   "metadata": {},
   "outputs": [
    {
     "name": "stdout",
     "output_type": "stream",
     "text": [
      "original :  torch.Size([2, 3])\n",
      "after view(3,2) :  torch.Size([3, 2])\n",
      "after view(-1) :  torch.Size([6])\n",
      "after view(2,-1) :  torch.Size([2, 3])\n"
     ]
    }
   ],
   "source": [
    "print('original : ',x.shape)\n",
    "x=x.view(3,2)\n",
    "print('after view(3,2) : ',x.shape)\n",
    "x=x.view(-1)\n",
    "print('after view(-1) : ', x.shape)\n",
    "x=x.view(2,-1)\n",
    "print('after view(2,-1) : ',x.shape)"
   ]
  },
  {
   "cell_type": "markdown",
   "metadata": {},
   "source": [
    "## 2. Pytorch nn 레이어와 모델 정의\n",
    "torch.nn 모듈에서 다양한 pre-defined neural network를 불러와 사용할 수 있습니다. (ref : https://pytorch.org/docs/stable/nn.html)"
   ]
  },
  {
   "cell_type": "code",
   "execution_count": 6,
   "metadata": {},
   "outputs": [
    {
     "name": "stdout",
     "output_type": "stream",
     "text": [
      "tensor([0.1310, 0.2634, 0.9410, 0.6162, 0.2566, 0.3262, 0.5685, 0.9553])\n"
     ]
    }
   ],
   "source": [
    "import torch.nn as nn\n",
    "\n",
    "Sample_X = torch.rand(8)\n",
    "print(Sample_X)"
   ]
  },
  {
   "cell_type": "code",
   "execution_count": 7,
   "metadata": {},
   "outputs": [
    {
     "name": "stdout",
     "output_type": "stream",
     "text": [
      "torch.Size([4])\n"
     ]
    }
   ],
   "source": [
    "fc_layer = nn.Linear(8,4)\n",
    "Sample_Y = fc_layer(Sample_X)\n",
    "print(Sample_Y.size())"
   ]
  },
  {
   "cell_type": "code",
   "execution_count": 8,
   "metadata": {},
   "outputs": [
    {
     "name": "stdout",
     "output_type": "stream",
     "text": [
      "tensor([-0.1895, -0.5073, -0.0366, -0.8217], grad_fn=<AddBackward0>)\n",
      "tensor([-0.1895, -0.5073, -0.0366, -0.8217], grad_fn=<AddBackward0>)\n"
     ]
    }
   ],
   "source": [
    "print(Sample_Y)\n",
    "print((fc_layer.weight*Sample_X).sum(dim=-1)+fc_layer.bias)"
   ]
  },
  {
   "cell_type": "code",
   "execution_count": 9,
   "metadata": {},
   "outputs": [
    {
     "name": "stdout",
     "output_type": "stream",
     "text": [
      "tensor([[0.7595, 0.3448, 0.3933, 0.0606, 0.0367, 0.8567, 0.0371, 0.2250],\n",
      "        [0.0824, 0.1933, 0.5905, 0.8252, 0.8417, 0.3439, 0.2559, 0.1701],\n",
      "        [0.4714, 0.4662, 0.3702, 0.2033, 0.4788, 0.1701, 0.4358, 0.3054],\n",
      "        [0.9978, 0.5378, 0.4414, 0.8345, 0.7145, 0.2639, 0.4171, 0.4221]])\n"
     ]
    }
   ],
   "source": [
    "Batch_X = torch.rand(4,8)\n",
    "print(Batch_X)"
   ]
  },
  {
   "cell_type": "code",
   "execution_count": 10,
   "metadata": {},
   "outputs": [
    {
     "name": "stdout",
     "output_type": "stream",
     "text": [
      "torch.Size([4, 8])\n",
      "torch.Size([4, 4])\n"
     ]
    }
   ],
   "source": [
    "print(Batch_X.shape)\n",
    "Batch_Y = fc_layer(Batch_X)\n",
    "print(Batch_Y.shape)"
   ]
  },
  {
   "cell_type": "markdown",
   "metadata": {},
   "source": [
    "직접 모델을 생성하기 위해 torch.nn.Module 클래스를 상속받아 사용합니다.\n",
    "\n",
    "- *\\__init__()* 함수 안에서 각 레이어들과 상수 등을 정의할 수 있습니다. 클래스가 생성될 때 실행됩니다.\n",
    "- *forward()* 함수에는 해당 모델의 forward pass에 실행할 코드를 작성합니다."
   ]
  },
  {
   "cell_type": "code",
   "execution_count": 11,
   "metadata": {},
   "outputs": [],
   "source": [
    "class SampleModel(nn.Module):\n",
    "    def __init__(self):\n",
    "        super(SampleModel, self).__init__()\n",
    "        self.fc_layer = nn.Linear(8,4)\n",
    "        self.c = 2\n",
    "    def forward(self, x):\n",
    "        x = self.fc_layer(x)\n",
    "        x = x+self.c\n",
    "        return x"
   ]
  },
  {
   "cell_type": "code",
   "execution_count": 12,
   "metadata": {},
   "outputs": [
    {
     "name": "stdout",
     "output_type": "stream",
     "text": [
      "torch.Size([4, 8])\n",
      "torch.Size([4, 4])\n"
     ]
    }
   ],
   "source": [
    "fc_model = SampleModel()        ## __init__() 호출\n",
    "Batch_Y2 = fc_model(Batch_X)    ##forward() 호출\n",
    "print(Batch_X.shape)\n",
    "print(Batch_Y2.shape)"
   ]
  },
  {
   "cell_type": "code",
   "execution_count": 13,
   "metadata": {},
   "outputs": [],
   "source": [
    "class MLPModel(nn.Module):\n",
    "    def __init__(self, in_dim, out_dim, h_dim=16):\n",
    "        super(MLPModel, self).__init__()\n",
    "        self.fc1 = nn.Linear(in_dim, h_dim)\n",
    "        self.bn1 = nn.BatchNorm1d(h_dim)\n",
    "        \n",
    "        self.fc2 = nn.Linear(h_dim, h_dim)\n",
    "        self.bn2 = nn.BatchNorm1d(h_dim)\n",
    "        \n",
    "        self.fc3 = nn.Linear(h_dim, out_dim)\n",
    "        \n",
    "        self.relu = nn.ReLU()\n",
    "        \n",
    "    def forward(self, x):\n",
    "        x = self.fc1(x)\n",
    "        x = self.bn1(x)\n",
    "        x = self.relu(x)\n",
    "        \n",
    "        x = self.fc2(x)\n",
    "        x = self.bn2(x)\n",
    "        x = self.relu(x)\n",
    "        \n",
    "        x = self.fc3(x)\n",
    "        return x"
   ]
  },
  {
   "cell_type": "code",
   "execution_count": 14,
   "metadata": {},
   "outputs": [
    {
     "name": "stdout",
     "output_type": "stream",
     "text": [
      "torch.Size([4, 8])\n",
      "torch.Size([4, 4])\n"
     ]
    }
   ],
   "source": [
    "mlp_model = MLPModel(8,4)\n",
    "Batch_Y3 = mlp_model(Batch_X)\n",
    "print(Batch_X.shape)\n",
    "print(Batch_Y.shape)"
   ]
  },
  {
   "cell_type": "markdown",
   "metadata": {},
   "source": [
    "CUDA가 사용 가능한 환경이라면, 모델을 GPU에 올릴 수 있습니다."
   ]
  },
  {
   "cell_type": "code",
   "execution_count": 15,
   "metadata": {},
   "outputs": [
    {
     "name": "stdout",
     "output_type": "stream",
     "text": [
      "cuda\n"
     ]
    }
   ],
   "source": [
    "device = torch.device('cuda' if torch.cuda.is_available else 'cpu')\n",
    "print(device)"
   ]
  },
  {
   "cell_type": "code",
   "execution_count": 16,
   "metadata": {},
   "outputs": [
    {
     "name": "stdout",
     "output_type": "stream",
     "text": [
      "cpu\n"
     ]
    }
   ],
   "source": [
    "print(Batch_X.device)"
   ]
  },
  {
   "cell_type": "code",
   "execution_count": 17,
   "metadata": {},
   "outputs": [
    {
     "name": "stdout",
     "output_type": "stream",
     "text": [
      "cuda:0\n",
      "cpu\n",
      "cuda:0\n"
     ]
    }
   ],
   "source": [
    "Batch_X = Batch_X.cuda()\n",
    "print(Batch_X.device)\n",
    "Batch_X = Batch_X.cpu()\n",
    "print(Batch_X.device)\n",
    "Batch_X = Batch_X.to(device=device)\n",
    "print(Batch_X.device)"
   ]
  },
  {
   "cell_type": "code",
   "execution_count": 18,
   "metadata": {
    "scrolled": true
   },
   "outputs": [
    {
     "name": "stdout",
     "output_type": "stream",
     "text": [
      "cuda:0\n",
      "cuda:0\n"
     ]
    }
   ],
   "source": [
    "print(Batch_X.device)\n",
    "mlp_model.cuda()\n",
    "Batch_Y = mlp_model(Batch_X)\n",
    "print(Batch_Y.device)"
   ]
  },
  {
   "cell_type": "markdown",
   "metadata": {},
   "source": [
    "## 3. Optimizer를 활용한 Backpropagation 및 학습\n",
    "torch.optim에서 학습에 사용할 pre-defined optimizer를 불러올 수 있습니다. (ref : https://pytorch.org/docs/stable/optim.html)"
   ]
  },
  {
   "cell_type": "code",
   "execution_count": 19,
   "metadata": {},
   "outputs": [],
   "source": [
    "import torch.optim as optim"
   ]
  },
  {
   "cell_type": "code",
   "execution_count": 20,
   "metadata": {},
   "outputs": [],
   "source": [
    "optimizer = optim.Adam(mlp_model.parameters(), lr=1e-2)"
   ]
  },
  {
   "cell_type": "code",
   "execution_count": 21,
   "metadata": {},
   "outputs": [
    {
     "name": "stdout",
     "output_type": "stream",
     "text": [
      "None\n"
     ]
    }
   ],
   "source": [
    "print(mlp_model.fc1.weight.grad)"
   ]
  },
  {
   "cell_type": "code",
   "execution_count": 22,
   "metadata": {},
   "outputs": [
    {
     "name": "stdout",
     "output_type": "stream",
     "text": [
      "tensor([[ 8.4694e-01,  2.3544e-02,  1.8459e-02,  2.1795e-01, -3.3637e-01,\n",
      "          6.9835e-01, -3.5154e-01,  6.1605e-02],\n",
      "        [-2.0228e+00, -7.3659e-01,  5.9970e-01,  1.6501e+00,  1.5670e+00,\n",
      "         -4.9020e-01,  1.0801e-02, -3.9959e-01],\n",
      "        [-5.0785e-01, -4.3155e-02,  1.5492e-01,  7.8751e-01,  8.5422e-01,\n",
      "         -6.6328e-01,  3.3448e-01,  2.2159e-02],\n",
      "        [-4.6489e+00, -3.1236e+00,  2.7336e+00,  8.3660e+00,  5.2140e+00,\n",
      "          1.3470e+00, -1.7164e+00, -1.4485e+00],\n",
      "        [-2.9259e+00, -1.6287e+00,  2.7615e-01, -2.5169e+00, -2.1329e+00,\n",
      "          2.6587e+00, -1.9616e+00, -1.3541e+00],\n",
      "        [ 1.7731e+00,  8.5607e-01, -2.1232e-01,  9.3655e-01,  6.8379e-01,\n",
      "         -1.0252e+00,  8.3537e-01,  6.8684e-01],\n",
      "        [ 6.8641e-01,  4.3898e-01, -4.4497e-01, -1.5362e+00, -1.0241e+00,\n",
      "         -2.7658e-02,  1.5473e-01,  1.7415e-01],\n",
      "        [-6.1079e-01,  1.0835e+00, -1.2673e+00, -4.9356e+00, -1.9443e+00,\n",
      "         -1.9561e+00,  1.3500e+00,  2.5665e-01],\n",
      "        [ 2.9828e+00,  1.1527e+00, -6.5019e-01, -8.7480e-01, -1.0557e+00,\n",
      "         -2.4736e-02,  4.0637e-01,  7.6381e-01],\n",
      "        [-1.8987e+01, -3.3922e+00,  5.6974e+00,  2.4522e+01,  2.5977e+01,\n",
      "         -1.7935e+01,  8.2970e+00, -7.2844e-01],\n",
      "        [-1.1323e+00,  9.4518e-02, -1.8199e-01, -9.2041e-01,  1.3778e-01,\n",
      "         -1.0707e+00,  5.7971e-01, -5.4825e-02],\n",
      "        [-7.1224e-01, -7.3480e-01,  3.6864e-01,  3.5510e-01, -2.2330e-01,\n",
      "          1.2728e+00, -9.1119e-01, -4.6462e-01],\n",
      "        [ 7.7162e+00,  3.3036e+00, -2.5908e+00, -6.8918e+00, -5.7973e+00,\n",
      "          6.6581e-01,  7.4881e-01,  1.7903e+00],\n",
      "        [ 4.7281e-01,  6.7939e-01, -1.7868e-01,  6.2712e-01,  1.0402e+00,\n",
      "         -1.7030e+00,  1.1223e+00,  5.0430e-01],\n",
      "        [ 2.6600e+00,  1.5766e+00, -8.0241e-01, -7.6305e-01, -2.3005e-01,\n",
      "         -1.6028e+00,  1.3712e+00,  1.0343e+00],\n",
      "        [-6.0693e-01,  5.5675e-01, -4.7091e-01, -1.4790e+00, -2.1871e-02,\n",
      "         -1.6746e+00,  1.0485e+00,  2.1163e-01]], device='cuda:0')\n"
     ]
    }
   ],
   "source": [
    "Batch_Y = mlp_model(Batch_X)\n",
    "loss = ((Batch_Y-1)**2).mean()\n",
    "loss.backward()\n",
    "print(mlp_model.fc1.weight.grad)"
   ]
  },
  {
   "cell_type": "code",
   "execution_count": 23,
   "metadata": {},
   "outputs": [
    {
     "name": "stdout",
     "output_type": "stream",
     "text": [
      "Before optimizer step : \n",
      " Parameter containing:\n",
      "tensor([[-3.3010e-01,  7.6642e-02, -1.3407e-02, -3.1053e-01, -2.5538e-01,\n",
      "          2.9892e-01, -1.6348e-01, -1.0211e-01],\n",
      "        [-6.1281e-02,  1.5335e-01,  2.4939e-01,  1.5160e-01, -2.7049e-01,\n",
      "          2.5807e-01,  9.3253e-02, -3.4537e-01],\n",
      "        [ 1.3164e-01,  2.6933e-01,  3.5036e-01,  2.5524e-01, -3.1660e-01,\n",
      "         -9.7655e-02,  1.0779e-01, -2.2314e-01],\n",
      "        [-3.5278e-01,  2.0968e-02,  3.4320e-01, -5.4389e-02, -2.4784e-01,\n",
      "         -1.8672e-01,  3.7570e-02,  3.0960e-01],\n",
      "        [ 3.2852e-01, -1.8339e-01,  3.2676e-01,  2.5432e-01,  9.9421e-02,\n",
      "          2.9875e-01, -1.6863e-01, -2.2087e-01],\n",
      "        [-2.0554e-01, -3.4741e-01, -1.4715e-01,  1.4556e-01,  3.4592e-01,\n",
      "         -4.0556e-02,  3.4941e-01, -1.1049e-01],\n",
      "        [ 7.9837e-02, -9.5446e-02, -3.9200e-02, -1.7244e-01,  3.3842e-01,\n",
      "         -2.8374e-01, -1.5013e-02,  2.6212e-01],\n",
      "        [ 5.2201e-02,  1.7902e-01,  3.0471e-01,  1.1782e-01, -6.6130e-02,\n",
      "         -2.7810e-01,  1.1837e-01, -1.0739e-01],\n",
      "        [ 1.8530e-01, -1.3494e-01,  1.4120e-01,  2.1226e-01,  2.5886e-01,\n",
      "          1.7693e-01,  2.0673e-01,  9.6670e-02],\n",
      "        [-2.4865e-01,  8.0243e-02,  3.1812e-01,  1.3864e-01, -3.4529e-01,\n",
      "          1.5226e-01,  2.5299e-01,  8.1588e-02],\n",
      "        [ 1.7975e-01,  2.5286e-01, -3.1592e-01,  2.1594e-02,  3.2785e-01,\n",
      "         -4.9288e-02,  9.0524e-02,  1.6206e-01],\n",
      "        [ 9.5438e-02,  2.3146e-01, -9.4328e-03, -2.5306e-01, -1.5906e-01,\n",
      "          2.5589e-01,  1.9035e-01, -3.1109e-01],\n",
      "        [-1.8230e-01, -7.6090e-02, -1.1672e-01, -1.7045e-02, -2.2941e-01,\n",
      "         -2.9612e-01,  2.5040e-01, -4.5066e-02],\n",
      "        [-1.6978e-01, -1.9706e-01,  1.2425e-01,  1.2773e-04,  2.2402e-01,\n",
      "          1.2966e-01,  1.1864e-01,  1.7656e-01],\n",
      "        [ 5.2664e-02, -3.2608e-01,  1.1056e-01, -2.0585e-02,  2.7919e-01,\n",
      "         -1.7789e-01,  2.0033e-01, -4.7168e-02],\n",
      "        [ 6.7443e-03, -1.5197e-01, -2.9544e-01, -6.3700e-02, -2.6035e-01,\n",
      "          2.1182e-01,  1.8233e-01,  6.1536e-02]], device='cuda:0',\n",
      "       requires_grad=True)\n",
      "After optimizer step : \n",
      " Parameter containing:\n",
      "tensor([[-0.3401,  0.0666, -0.0234, -0.3205, -0.2454,  0.2889, -0.1535, -0.1121],\n",
      "        [-0.0513,  0.1633,  0.2394,  0.1416, -0.2805,  0.2681,  0.0833, -0.3354],\n",
      "        [ 0.1416,  0.2793,  0.3404,  0.2452, -0.3266, -0.0877,  0.0978, -0.2331],\n",
      "        [-0.3428,  0.0310,  0.3332, -0.0644, -0.2578, -0.1967,  0.0476,  0.3196],\n",
      "        [ 0.3385, -0.1734,  0.3168,  0.2643,  0.1094,  0.2888, -0.1586, -0.2109],\n",
      "        [-0.2155, -0.3574, -0.1371,  0.1356,  0.3359, -0.0306,  0.3394, -0.1205],\n",
      "        [ 0.0698, -0.1054, -0.0292, -0.1624,  0.3484, -0.2737, -0.0250,  0.2521],\n",
      "        [ 0.0622,  0.1690,  0.3147,  0.1278, -0.0561, -0.2681,  0.1084, -0.1174],\n",
      "        [ 0.1753, -0.1449,  0.1512,  0.2223,  0.2689,  0.1869,  0.1967,  0.0867],\n",
      "        [-0.2387,  0.0902,  0.3081,  0.1286, -0.3553,  0.1623,  0.2430,  0.0916],\n",
      "        [ 0.1898,  0.2429, -0.3059,  0.0316,  0.3178, -0.0393,  0.0805,  0.1721],\n",
      "        [ 0.1054,  0.2415, -0.0194, -0.2631, -0.1491,  0.2459,  0.2004, -0.3011],\n",
      "        [-0.1923, -0.0861, -0.1067, -0.0070, -0.2194, -0.3061,  0.2404, -0.0551],\n",
      "        [-0.1798, -0.2071,  0.1343, -0.0099,  0.2140,  0.1397,  0.1086,  0.1666],\n",
      "        [ 0.0427, -0.3361,  0.1206, -0.0106,  0.2892, -0.1679,  0.1903, -0.0572],\n",
      "        [ 0.0167, -0.1620, -0.2854, -0.0537, -0.2503,  0.2218,  0.1723,  0.0515]],\n",
      "       device='cuda:0', requires_grad=True)\n"
     ]
    }
   ],
   "source": [
    "print('Before optimizer step : \\n',mlp_model.fc1.weight)\n",
    "optimizer.step()\n",
    "print('After optimizer step : \\n',mlp_model.fc1.weight)"
   ]
  },
  {
   "cell_type": "code",
   "execution_count": 24,
   "metadata": {},
   "outputs": [
    {
     "name": "stdout",
     "output_type": "stream",
     "text": [
      "Before zero_grad : \n",
      " tensor([[ 8.4694e-01,  2.3544e-02,  1.8459e-02,  2.1795e-01, -3.3637e-01,\n",
      "          6.9835e-01, -3.5154e-01,  6.1605e-02],\n",
      "        [-2.0228e+00, -7.3659e-01,  5.9970e-01,  1.6501e+00,  1.5670e+00,\n",
      "         -4.9020e-01,  1.0801e-02, -3.9959e-01],\n",
      "        [-5.0785e-01, -4.3155e-02,  1.5492e-01,  7.8751e-01,  8.5422e-01,\n",
      "         -6.6328e-01,  3.3448e-01,  2.2159e-02],\n",
      "        [-4.6489e+00, -3.1236e+00,  2.7336e+00,  8.3660e+00,  5.2140e+00,\n",
      "          1.3470e+00, -1.7164e+00, -1.4485e+00],\n",
      "        [-2.9259e+00, -1.6287e+00,  2.7615e-01, -2.5169e+00, -2.1329e+00,\n",
      "          2.6587e+00, -1.9616e+00, -1.3541e+00],\n",
      "        [ 1.7731e+00,  8.5607e-01, -2.1232e-01,  9.3655e-01,  6.8379e-01,\n",
      "         -1.0252e+00,  8.3537e-01,  6.8684e-01],\n",
      "        [ 6.8641e-01,  4.3898e-01, -4.4497e-01, -1.5362e+00, -1.0241e+00,\n",
      "         -2.7658e-02,  1.5473e-01,  1.7415e-01],\n",
      "        [-6.1079e-01,  1.0835e+00, -1.2673e+00, -4.9356e+00, -1.9443e+00,\n",
      "         -1.9561e+00,  1.3500e+00,  2.5665e-01],\n",
      "        [ 2.9828e+00,  1.1527e+00, -6.5019e-01, -8.7480e-01, -1.0557e+00,\n",
      "         -2.4736e-02,  4.0637e-01,  7.6381e-01],\n",
      "        [-1.8987e+01, -3.3922e+00,  5.6974e+00,  2.4522e+01,  2.5977e+01,\n",
      "         -1.7935e+01,  8.2970e+00, -7.2844e-01],\n",
      "        [-1.1323e+00,  9.4518e-02, -1.8199e-01, -9.2041e-01,  1.3778e-01,\n",
      "         -1.0707e+00,  5.7971e-01, -5.4825e-02],\n",
      "        [-7.1224e-01, -7.3480e-01,  3.6864e-01,  3.5510e-01, -2.2330e-01,\n",
      "          1.2728e+00, -9.1119e-01, -4.6462e-01],\n",
      "        [ 7.7162e+00,  3.3036e+00, -2.5908e+00, -6.8918e+00, -5.7973e+00,\n",
      "          6.6581e-01,  7.4881e-01,  1.7903e+00],\n",
      "        [ 4.7281e-01,  6.7939e-01, -1.7868e-01,  6.2712e-01,  1.0402e+00,\n",
      "         -1.7030e+00,  1.1223e+00,  5.0430e-01],\n",
      "        [ 2.6600e+00,  1.5766e+00, -8.0241e-01, -7.6305e-01, -2.3005e-01,\n",
      "         -1.6028e+00,  1.3712e+00,  1.0343e+00],\n",
      "        [-6.0693e-01,  5.5675e-01, -4.7091e-01, -1.4790e+00, -2.1871e-02,\n",
      "         -1.6746e+00,  1.0485e+00,  2.1163e-01]], device='cuda:0')\n",
      "After zero_grad : \n",
      " tensor([[0., 0., 0., 0., 0., 0., 0., 0.],\n",
      "        [0., 0., 0., 0., 0., 0., 0., 0.],\n",
      "        [0., 0., 0., 0., 0., 0., 0., 0.],\n",
      "        [0., 0., 0., 0., 0., 0., 0., 0.],\n",
      "        [0., 0., 0., 0., 0., 0., 0., 0.],\n",
      "        [0., 0., 0., 0., 0., 0., 0., 0.],\n",
      "        [0., 0., 0., 0., 0., 0., 0., 0.],\n",
      "        [0., 0., 0., 0., 0., 0., 0., 0.],\n",
      "        [0., 0., 0., 0., 0., 0., 0., 0.],\n",
      "        [0., 0., 0., 0., 0., 0., 0., 0.],\n",
      "        [0., 0., 0., 0., 0., 0., 0., 0.],\n",
      "        [0., 0., 0., 0., 0., 0., 0., 0.],\n",
      "        [0., 0., 0., 0., 0., 0., 0., 0.],\n",
      "        [0., 0., 0., 0., 0., 0., 0., 0.],\n",
      "        [0., 0., 0., 0., 0., 0., 0., 0.],\n",
      "        [0., 0., 0., 0., 0., 0., 0., 0.]], device='cuda:0')\n"
     ]
    }
   ],
   "source": [
    "print('Before zero_grad : \\n',mlp_model.fc1.weight.grad)\n",
    "optimizer.zero_grad()\n",
    "print('After zero_grad : \\n',mlp_model.fc1.weight.grad)"
   ]
  },
  {
   "cell_type": "code",
   "execution_count": 36,
   "metadata": {},
   "outputs": [
    {
     "name": "stdout",
     "output_type": "stream",
     "text": [
      "Before training : \n",
      " tensor([ 0.4735, -1.6492, -0.3480,  0.7830,  1.1861,  0.5347,  0.7234,  1.6596,\n",
      "         1.8204,  0.8860,  1.3644,  0.1231, -0.3901, -1.6033,  0.8328,  1.6987,\n",
      "         0.6870,  0.0339,  1.1514, -1.6896,  0.1849,  1.2115, -0.3384, -0.0382,\n",
      "         0.1941, -0.5657,  1.8123, -0.9354,  0.0938,  0.9030, -0.0524,  1.5934,\n",
      "        -0.4202,  0.3825, -0.5724,  0.1581, -1.6893,  0.4306, -1.1601,  0.7596,\n",
      "        -0.1780,  0.2312,  0.6300,  1.6892, -1.4460, -0.1677,  0.0269,  0.1748,\n",
      "         1.4565,  0.3508, -0.9079,  0.2169,  0.9577, -0.1100, -0.8404,  0.0758,\n",
      "         0.5217,  1.5039, -0.6451,  0.5180,  0.5058,  0.7696, -1.9519,  0.1327,\n",
      "        -1.3455,  0.5000,  1.5791,  0.5829,  0.3601, -0.0275,  0.9339, -1.3236,\n",
      "        -0.5490, -0.0909,  1.0516, -1.1427, -1.1461, -0.4477,  1.6527,  0.7015,\n",
      "         1.1500,  0.2403,  1.8458, -1.0651,  0.7534,  1.7870,  1.0219, -0.1715,\n",
      "         0.3813,  0.0298,  1.6916,  0.5178, -0.1839,  1.0568, -0.3543,  1.0722,\n",
      "        -0.0610,  0.0164,  1.1881, -0.8523], device='cuda:0')\n",
      "After training : \n",
      " tensor([], device='cuda:0', size=(0, 1), grad_fn=<AddmmBackward>)\n"
     ]
    }
   ],
   "source": [
    "print('Before training : \\n',Batch_Y)\n",
    "for i in range(100):\n",
    "    Batch_Y = mlp_model(Batch_X)\n",
    "    loss = ((Batch_Y-1)**2).mean()\n",
    "    loss.backward()\n",
    "    optimizer.step()\n",
    "    optimizer.zero_grad()\n",
    "print('After training : \\n',Batch_Y)"
   ]
  },
  {
   "cell_type": "markdown",
   "metadata": {},
   "source": [
    "## 4. Pytorch 모델 학습 파이프라인"
   ]
  },
  {
   "cell_type": "code",
   "execution_count": 37,
   "metadata": {},
   "outputs": [
    {
     "name": "stdout",
     "output_type": "stream",
     "text": [
      "torch.Size([1000, 2])\n",
      "torch.Size([1000])\n",
      "torch.Size([500, 2])\n"
     ]
    }
   ],
   "source": [
    "X = torch.rand(1000,2)\n",
    "Y = torch.sin(X[:,0]*10)+torch.sin(X[:,1]*10)\n",
    "\n",
    "\n",
    "print(X.shape)\n",
    "print(Y.shape)\n",
    "print(testX.shape)"
   ]
  },
  {
   "cell_type": "code",
   "execution_count": 38,
   "metadata": {},
   "outputs": [
    {
     "data": {
      "image/png": "[encoded data removed]",
      "text/plain": [
       "<Figure size 432x288 with 1 Axes>"
      ]
     },
     "metadata": {},
     "output_type": "display_data"
    }
   ],
   "source": [
    "import matplotlib.pyplot as plt\n",
    "fig=plt.figure()\n",
    "plt.scatter(X[:,0],X[:,1], s=3, c=Y)\n",
    "plt.show()"
   ]
  },
  {
   "cell_type": "code",
   "execution_count": 39,
   "metadata": {},
   "outputs": [],
   "source": [
    "X=X.cuda()\n",
    "Y=Y.cuda()"
   ]
  },
  {
   "cell_type": "code",
   "execution_count": 40,
   "metadata": {},
   "outputs": [],
   "source": [
    "mlp_model = MLPModel(2,1)\n",
    "mlp_model.cuda()\n",
    "optimizer = optim.Adam(mlp_model.parameters(), lr=1e-2)\n",
    "\n",
    "pred = mlp_model(X)\n",
    "loss = nn.MSELoss()(pred.squeeze(-1),Y) # MSELoss : ((pred-Y)**2).mean()\n",
    "loss.backward()\n",
    "optimizer.step()\n",
    "optimizer.zero_grad()"
   ]
  },
  {
   "cell_type": "code",
   "execution_count": 41,
   "metadata": {},
   "outputs": [],
   "source": [
    "mlp_model = MLPModel(2,1)\n",
    "mlp_model.cuda()\n",
    "optimizer = optim.Adam(mlp_model.parameters(), lr=1e-2)\n",
    "\n",
    "for b in range(10):\n",
    "    Batch_X = X[b*100:(b+1)*100]\n",
    "    Batch_Y = Y[b*100:(b+1)*100]\n",
    "    \n",
    "    pred = mlp_model(Batch_X)\n",
    "    loss = nn.MSELoss()(pred.squeeze(-1),Batch_Y)\n",
    "    loss.backward()\n",
    "    optimizer.step()\n",
    "    optimizer.zero_grad()"
   ]
  },
  {
   "cell_type": "code",
   "execution_count": 42,
   "metadata": {},
   "outputs": [],
   "source": [
    "mlp_model = MLPModel(2,1)\n",
    "mlp_model.cuda()\n",
    "optimizer = optim.Adam(mlp_model.parameters(), lr=1e-2)\n",
    "\n",
    "losses = []\n",
    "for e in range(100):\n",
    "    avg_loss = 0.0\n",
    "    n=0\n",
    "    \n",
    "    for b in range(10):\n",
    "        Batch_X = X[b*100:(b+1)*100]\n",
    "        Batch_Y = Y[b*100:(b+1)*100]\n",
    "\n",
    "        pred = mlp_model(Batch_X)\n",
    "        loss = nn.MSELoss()(pred.squeeze(-1),Batch_Y)\n",
    "        loss.backward()\n",
    "        optimizer.step()\n",
    "        optimizer.zero_grad()\n",
    "    \n",
    "    avg_loss = (n*avg_loss + loss.item())/(n+1)\n",
    "    n += 1\n",
    "    losses.append(avg_loss)"
   ]
  },
  {
   "cell_type": "code",
   "execution_count": 43,
   "metadata": {},
   "outputs": [
    {
     "data": {
      "text/plain": [
       "[<matplotlib.lines.Line2D at 0x205e2361b70>]"
      ]
     },
     "execution_count": 43,
     "metadata": {},
     "output_type": "execute_result"
    },
    {
     "data": {
      "image/png": "[encoded data removed]",
      "text/plain": [
       "<Figure size 432x288 with 1 Axes>"
      ]
     },
     "metadata": {},
     "output_type": "display_data"
    }
   ],
   "source": [
    "plt.plot(losses)"
   ]
  },
  {
   "cell_type": "code",
   "execution_count": 45,
   "metadata": {},
   "outputs": [],
   "source": [
    "testX = torch.rand(500,2)\n",
    "testX = testX.cuda()"
   ]
  },
  {
   "cell_type": "code",
   "execution_count": 46,
   "metadata": {},
   "outputs": [],
   "source": [
    "mlp_model.eval() # reset to training : mlp_model.train()\n",
    "\n",
    "pred_Y = []\n",
    "with torch.no_grad():\n",
    "    for b in range(10):\n",
    "        Batch_X = testX[b*100:(b+1)*100]\n",
    "        pred = mlp_model(Batch_X)\n",
    "        pred_Y.append(pred.cpu())\n",
    "pred_Y = torch.cat(pred_Y, dim=0)"
   ]
  },
  {
   "cell_type": "code",
   "execution_count": 47,
   "metadata": {},
   "outputs": [
    {
     "data": {
      "image/png": "[encoded data removed]",
      "text/plain": [
       "<Figure size 432x288 with 1 Axes>"
      ]
     },
     "metadata": {},
     "output_type": "display_data"
    }
   ],
   "source": [
    "plt.scatter(testX[:,0].cpu(),testX[:,1].cpu(), s=3, c=pred_Y)\n",
    "plt.show()"
   ]
  }
 ],
 "metadata": {
  "kernelspec": {
   "display_name": "Python 3",
   "language": "python",
   "name": "python3"
  },
  "language_info": {
   "codemirror_mode": {
    "name": "ipython",
    "version": 3
   },
   "file_extension": ".py",
   "mimetype": "text/x-python",
   "name": "python",
   "nbconvert_exporter": "python",
   "pygments_lexer": "ipython3",
   "version": "3.6.2"
  }
 },
 "nbformat": 4,
 "nbformat_minor": 2
}
